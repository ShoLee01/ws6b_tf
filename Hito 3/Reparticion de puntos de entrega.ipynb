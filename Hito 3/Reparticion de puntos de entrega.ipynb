house_by_warehouse = len(houses) / len(warehouses)
aux_house = list(houses)
grupos = []
grupo = dict()
j= (int)(house_by_warehouse)
for warehouse in warehouses:
  
  aux_house.sort(key=lambda house: manhattan_distance(warehouse, house))
  grupo["casas"] = aux_house[:5]
  
  grupo["almacen"] = warehouse
  aux_house = aux_house[5:]
  grupos.append(grupo.copy())
