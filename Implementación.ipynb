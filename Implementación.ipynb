{
  "nbformat": 4,
  "nbformat_minor": 0,
  "metadata": {
    "colab": {
      "name": "Implementación.ipynb",
      "provenance": [],
      "authorship_tag": "ABX9TyOyT+5gdMHpreNrKarAthv/",
      "include_colab_link": true
    },
    "kernelspec": {
      "name": "python3",
      "display_name": "Python 3"
    },
    "language_info": {
      "name": "python"
    }
  },
  "cells": [
    {
      "cell_type": "markdown",
      "metadata": {
        "id": "view-in-github",
        "colab_type": "text"
      },
      "source": [
        "<a href=\"https://colab.research.google.com/github/ShoLee01/ws6b_tf_201822206_201923816_201414715_201910015_201715721_201710880/blob/main/Implementaci%C3%B3n.ipynb\" target=\"_parent\"><img src=\"https://colab.research.google.com/assets/colab-badge.svg\" alt=\"Open In Colab\"/></a>"
      ]
    },
    {
      "cell_type": "markdown",
      "metadata": {
        "id": "r3IMUPWN_xxo"
      },
      "source": [
        "#Algoritmo de Dikstra básico"
      ]
    },
    {
      "cell_type": "code",
      "metadata": {
        "id": "2j83SAoH_2eN"
      },
      "source": [
        "def dijkstra(G, s):\n",
        "  n = len(G)\n",
        "  visited = [False]*n\n",
        "  path = [None]*n\n",
        "  cost = [math.inf]*n\n",
        "  cost[s] = 0\n",
        "  queue = [(0, s)]\n",
        "  while queue:\n",
        "    g_u, u = hq.heappop(queue)\n",
        "    if not visited[u]:\n",
        "      visited[u] = True\n",
        "      for v, w in G[u]:\n",
        "        f = g_u + w\n",
        "        if f < cost[v]:\n",
        "          cost[v] = f\n",
        "          path[v] = u\n",
        "          hq.heappush(queue, (f, v))\n",
        "\n",
        "  return path, cost"
      ],
      "execution_count": null,
      "outputs": []
    },
    {
      "cell_type": "markdown",
      "metadata": {
        "id": "uSCaquIs_cOs"
      },
      "source": [
        "#Algoritmo de Disktra para cada almacen"
      ]
    },
    {
      "cell_type": "code",
      "metadata": {
        "id": "czYJa9Je_WPl"
      },
      "source": [
        "def Dijkstra_modificado(almacenes,entregas,GRAFO):\n",
        "  res = []\n",
        "  for i in almacenes:\n",
        "    camino,costo = dijkstra(G,i)\n",
        "    for l in entregas:\n",
        "      nodo = l\n",
        "      p = [l]\n",
        "      c = costo[l]\n",
        "      while nodo != i:\n",
        "        nodo = camino[nodo]\n",
        "        p.append(nodo)\n",
        "      p.reverse()\n",
        "      res.append((i,l,c, p))\n",
        "  return res"
      ],
      "execution_count": null,
      "outputs": []
    },
    {
      "cell_type": "markdown",
      "metadata": {
        "id": "BHSDYhZM_nGx"
      },
      "source": [
        "#Algoritmo de Dikjstra para sus puntos más cercanos"
      ]
    },
    {
      "cell_type": "code",
      "metadata": {
        "id": "j7O0nCmc_mHl"
      },
      "source": [
        ""
      ],
      "execution_count": null,
      "outputs": []
    },
    {
      "cell_type": "code",
      "metadata": {
        "id": "Zz29wjMw_Y1T"
      },
      "source": [
        "def dijkstra2(Almacenes,Puntos, Grafo, nodo_inicial):\n",
        "  visited = {node:False for node in M}\n",
        "  visitedPts = []\n",
        "  camino = {node:None for node in M}\n",
        "  costo = {node:math.inf for node in M}\n",
        "  costo[s] = 0\n",
        "  queue = [(0, s)]\n",
        "  while queue:\n",
        "    if len(visitedPts) == len(Pts):\n",
        "      break\n",
        "    g_u, u = hq.heappop(queue)\n",
        "    if visited[u]:continue\n",
        "    visited[u] = True\n",
        "    if u in Pts:        \n",
        "      visitedPts.append(1)\n",
        "      for v in G[u]:\n",
        "        if v not in M:\n",
        "          continue\n",
        "        f = g_u + 1\n",
        "        if f < costo[v]:\n",
        "          costo[v] = f\n",
        "          camino[v] = u\n",
        "          hq.heappush(queue, (f, v))\n",
        "\n",
        "  return camino, costo"
      ],
      "execution_count": null,
      "outputs": []
    }
  ]
}