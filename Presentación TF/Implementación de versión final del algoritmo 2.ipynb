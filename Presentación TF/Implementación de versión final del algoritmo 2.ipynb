{
  "nbformat": 4,
  "nbformat_minor": 0,
  "metadata": {
    "colab": {
      "name": "Untitled8.ipynb",
      "provenance": []
    },
    "kernelspec": {
      "name": "python3",
      "display_name": "Python 3"
    },
    "language_info": {
      "name": "python"
    }
  },
  "cells": [
    {
      "cell_type": "markdown",
      "metadata": {
        "id": "JkQH6R3rCExu"
      },
      "source": [
        "# **Algoritmo con Prim - Miguel Angel Alfaro Gonzales**\n",
        "\n",
        "---\n",
        "\n"
      ]
    },
    {
      "cell_type": "code",
      "metadata": {
        "id": "CPRXyNl_B2OL"
      },
      "source": [
        "def prim(G):\n",
        "  n = len(G)\n",
        "  visited = [False]*n\n",
        "  path = [-1]*n\n",
        "  cost = [math.inf]*n\n",
        "  q = [(0, 0)]\n",
        "  while q:\n",
        "    _, u = hq.heappop(q)\n",
        "    if not visited[u]:\n",
        "      visited[u] = True\n",
        "      for v, w in G[u]:\n",
        "        if not visited[v] and w < cost[v]:\n",
        "          cost[v] = w\n",
        "          path[v] = u\n",
        "          hq.heappush(q, (w, v))\n",
        "\n",
        "  return path, cost"
      ],
      "execution_count": 1,
      "outputs": []
    },
    {
      "cell_type": "code",
      "metadata": {
        "id": "SIpRq_urCZvO"
      },
      "source": [
        "def structure_prim(grupo, plt=None, town=80):\n",
        "  node = grupo[\"casas\"]\n",
        "  node.append(grupo[\"almacen\"])\n",
        "  label = list()\n",
        "  for nodo in node:\n",
        "    label.append(str(get_node(nodo, town)))\n",
        "  grafo = [[] for _ in range(len(node))]\n",
        "  for i, _ in enumerate(node):\n",
        "    for j, _ in enumerate(node):\n",
        "      if i == j: continue\n",
        "      grafo[i].append((j, manhattan_distance(node[i], node[j])))\n",
        "  path, cost = prim(grafo)\n",
        "  if(plt == None): return NodeShow(grafo, weighted=True, path=path, labels=label)\n",
        "  else: \n",
        "    for i in range(len(path)):\n",
        "      nodefir = get_cod(int(label[i]), town)\n",
        "      nodesec = get_cod(int(label[path[i]]), town)\n",
        "      plt.plot([nodefir[0], nodesec[0]], [nodefir[1], nodesec[1]])"
      ],
      "execution_count": 2,
      "outputs": []
    }
  ]
}